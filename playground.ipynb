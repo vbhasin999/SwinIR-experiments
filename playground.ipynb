{
  "cells": [
    {
      "cell_type": "code",
      "execution_count": null,
      "metadata": {
        "colab": {
          "base_uri": "https://localhost:8080/"
        },
        "id": "ERyI6BHTZa5a",
        "outputId": "0559fbeb-4f03-4fa5-9112-5b032ed45c67"
      },
      "outputs": [],
      "source": [
        "%pip install coremltools\n",
        "%pip install timm\n",
        "%pip install opencv-python\n",
        "%pip install thop"
      ]
    },
    {
      "cell_type": "code",
      "execution_count": null,
      "metadata": {
        "colab": {
          "base_uri": "https://localhost:8080/"
        },
        "id": "qmYo1EE-imq0",
        "outputId": "3817d576-061a-48a3-df39-a2c5f2aee1b5"
      },
      "outputs": [],
      "source": [
        "!python main_test_swinir.py --task classical_sr --scale 2 --training_patch_size 48 --model_path model_zoo/swinir/001_classicalSR_DIV2K_s48w8_SwinIR-M_x2.pth --folder_lq testsets/Set5/LR_bicubic/X2 --folder_gt testsets/Set5/HR"
      ]
    },
    {
      "cell_type": "code",
      "execution_count": null,
      "metadata": {
        "id": "cDSv35dHjJKd"
      },
      "outputs": [],
      "source": [
        "upscale=args.scale, in_chans=3, img_size=args.training_patch_size, window_size=8,\n",
        "                    img_range=1., depths=[6, 6, 6, 6, 6, 6], embed_dim=180, num_heads=[6, 6, 6, 6, 6, 6],\n",
        "                    mlp_ratio=2, upsampler='pixelshuffle', resi_connection='1conv"
      ]
    },
    {
      "cell_type": "code",
      "execution_count": 2,
      "metadata": {
        "id": "iXRjp0Z5igor"
      },
      "outputs": [],
      "source": [
        "config = {\n",
        "    'classical_sr' : {\n",
        "        'args': {\n",
        "            'upscale' : 2, # flexible\n",
        "            'in_chans' : 3,\n",
        "            'img_size' : 48,\n",
        "            'window_size' : 8,\n",
        "            'img_range' : 1.,\n",
        "            'depths' :[6, 6, 6, 6, 6, 6],\n",
        "            'embed_dim' : 180,\n",
        "            'num_heads' : [6, 6, 6, 6, 6, 6],\n",
        "            'mlp_ratio' : 2,\n",
        "            'upsampler' : 'pixelshuffle',\n",
        "            'resi_connection' : '1conv',\n",
        "        },\n",
        "        'path' : 'model_zoo/swinir/001_classicalSR_DIV2K_s48w8_SwinIR-M_x2.pth', #match with upscale factor\n",
        "    }\n",
        "}"
      ]
    },
    {
      "cell_type": "code",
      "execution_count": 3,
      "metadata": {
        "id": "8AIMXtSznFiO"
      },
      "outputs": [],
      "source": [
        "import cv2\n",
        "import os\n",
        "def get_image_pair(args, path):\n",
        "    (imgname, imgext) = os.path.splitext(os.path.basename(path))\n",
        "\n",
        "    # 001 classical image sr/ 002 lightweight image sr (load lq-gt image pairs)\n",
        "    img_gt = cv2.imread(path, cv2.IMREAD_COLOR).astype(np.float32) / 255.\n",
        "    img_lq = cv2.imread(f'{args.folder_lq}/{imgname}x{args.scale}{imgext}', cv2.IMREAD_COLOR).astype(\n",
        "        np.float32) / 255.\n",
        "\n",
        "    return imgname, img_lq, img_gt"
      ]
    },
    {
      "cell_type": "code",
      "execution_count": 4,
      "metadata": {
        "colab": {
          "base_uri": "https://localhost:8080/"
        },
        "id": "wD3uV5i0h2Ca",
        "outputId": "2b47fa60-4a1d-4749-e732-c1d407dd08a8"
      },
      "outputs": [
        {
          "name": "stderr",
          "output_type": "stream",
          "text": [
            "/Users/vedantbhasin/opt/anaconda3/envs/odml_env/lib/python3.12/site-packages/torch/functional.py:507: UserWarning: torch.meshgrid: in an upcoming release, it will be required to pass the indexing argument. (Triggered internally at /Users/runner/work/_temp/anaconda/conda-bld/pytorch_1711403213615/work/aten/src/ATen/native/TensorShape.cpp:3550.)\n",
            "  return _VF.meshgrid(tensors, **kwargs)  # type: ignore[attr-defined]\n"
          ]
        },
        {
          "data": {
            "text/plain": [
              "<All keys matched successfully>"
            ]
          },
          "execution_count": 4,
          "metadata": {},
          "output_type": "execute_result"
        }
      ],
      "source": [
        "import torch\n",
        "from models.network_swinir import SwinIR as net\n",
        "\n",
        "TASK_NAME = 'classical_sr'\n",
        "\n",
        "\n",
        "model_info = config[TASK_NAME]\n",
        "model = net(**model_info['args'])\n",
        "param_key_g = 'params'\n",
        "\n",
        "pretrained_model = torch.load(model_info['path'])\n",
        "model.load_state_dict(pretrained_model[param_key_g] if param_key_g in pretrained_model.keys() else pretrained_model, strict=True)\n",
        "\n"
      ]
    },
    {
      "cell_type": "code",
      "execution_count": 5,
      "metadata": {
        "colab": {
          "base_uri": "https://localhost:8080/",
          "height": 287
        },
        "id": "gQXnU6c8n94Q",
        "outputId": "09e0b710-a2db-4e87-b74d-8427fa6cc418"
      },
      "outputs": [
        {
          "name": "stdout",
          "output_type": "stream",
          "text": [
            "28046352384.0\n"
          ]
        }
      ],
      "source": [
        "print(model.flops())"
      ]
    },
    {
      "cell_type": "markdown",
      "metadata": {},
      "source": [
        "Visualizing"
      ]
    },
    {
      "cell_type": "code",
      "execution_count": null,
      "metadata": {
        "id": "DmrCsSIrc8iT"
      },
      "outputs": [],
      "source": [
        "import numpy as np\n",
        "import imageio.v2 as imageio\n",
        "\n",
        "im_arr = imageio.imread(\"/content/drive/MyDrive/SwinIR/testsets/Set5/LR_bicubic/X2/birdx2.png\")\n",
        "im_arr"
      ]
    },
    {
      "cell_type": "code",
      "execution_count": null,
      "metadata": {
        "id": "Ge5tevWIZu4Z"
      },
      "outputs": [],
      "source": []
    },
    {
      "cell_type": "code",
      "execution_count": null,
      "metadata": {
        "colab": {
          "base_uri": "https://localhost:8080/",
          "height": 184
        },
        "id": "GafSh9rkdFmB",
        "outputId": "78954f16-ab2f-44ff-a54e-8b4ee2aaee53"
      },
      "outputs": [],
      "source": []
    },
    {
      "cell_type": "code",
      "execution_count": null,
      "metadata": {
        "colab": {
          "base_uri": "https://localhost:8080/",
          "height": 35
        },
        "id": "Noi7CNqEdMur",
        "outputId": "cbf34250-caf5-4592-d0c7-7ebe706ac30f"
      },
      "outputs": [],
      "source": [
        "%pwd"
      ]
    },
    {
      "cell_type": "code",
      "execution_count": null,
      "metadata": {
        "colab": {
          "base_uri": "https://localhost:8080/"
        },
        "id": "ksu6wIKht-fa",
        "outputId": "fcb0e4d6-57cd-4967-a1a3-ccf43f487048"
      },
      "outputs": [],
      "source": [
        "!git init"
      ]
    },
    {
      "cell_type": "code",
      "execution_count": null,
      "metadata": {
        "id": "JYVzwjtzuCSa"
      },
      "outputs": [],
      "source": []
    }
  ],
  "metadata": {
    "accelerator": "GPU",
    "colab": {
      "gpuType": "T4",
      "machine_shape": "hm",
      "provenance": []
    },
    "kernelspec": {
      "display_name": "Python 3",
      "name": "python3"
    },
    "language_info": {
      "codemirror_mode": {
        "name": "ipython",
        "version": 3
      },
      "file_extension": ".py",
      "mimetype": "text/x-python",
      "name": "python",
      "nbconvert_exporter": "python",
      "pygments_lexer": "ipython3",
      "version": "3.12.7"
    }
  },
  "nbformat": 4,
  "nbformat_minor": 0
}
