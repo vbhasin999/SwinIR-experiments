{
  "cells": [
    {
      "cell_type": "code",
      "execution_count": null,
      "metadata": {
        "colab": {
          "base_uri": "https://localhost:8080/"
        },
        "id": "ERyI6BHTZa5a",
        "outputId": "0559fbeb-4f03-4fa5-9112-5b032ed45c67"
      },
      "outputs": [],
      "source": [
        "%pip install coremltools\n",
        "%pip install timm\n",
        "%pip install opencv-python\n",
        "%pip install thop"
      ]
    },
    {
      "cell_type": "code",
      "execution_count": null,
      "metadata": {
        "colab": {
          "base_uri": "https://localhost:8080/"
        },
        "id": "qmYo1EE-imq0",
        "outputId": "3817d576-061a-48a3-df39-a2c5f2aee1b5"
      },
      "outputs": [],
      "source": [
        "# classic\n",
        "!python main_test_swinir.py --task classical_sr --scale 2 --training_patch_size 48 --model_path model_zoo/swinir/001_classicalSR_DIV2K_s48w8_SwinIR-M_x2.pth --folder_lq testsets/Set5/LR_bicubic/X2 --folder_gt testsets/Set5/HR"
      ]
    },
    {
      "cell_type": "code",
      "execution_count": 6,
      "metadata": {},
      "outputs": [
        {
          "name": "stdout",
          "output_type": "stream",
          "text": [
            "Intel MKL WARNING: Support of Intel(R) Streaming SIMD Extensions 4.2 (Intel(R) SSE4.2) enabled only processors has been deprecated. Intel oneAPI Math Kernel Library 2025.0 will require Intel(R) Advanced Vector Extensions (Intel(R) AVX) instructions.\n",
            "Intel MKL WARNING: Support of Intel(R) Streaming SIMD Extensions 4.2 (Intel(R) SSE4.2) enabled only processors has been deprecated. Intel oneAPI Math Kernel Library 2025.0 will require Intel(R) Advanced Vector Extensions (Intel(R) AVX) instructions.\n",
            "Fail to import BlobReader from libmilstoragepython. No module named 'coremltools.libmilstoragepython'\n",
            "Failed to load _MLModelProxy: No module named 'coremltools.libcoremlpython'\n",
            "Fail to import BlobWriter from libmilstoragepython. No module named 'coremltools.libmilstoragepython'\n",
            "downloading model model_zoo/swinir/002_lightweightSR_DIV2K_s64w8_SwinIR-S_x2.pth\n",
            "/Users/vedantbhasin/opt/anaconda3/envs/odml_env/lib/python3.12/site-packages/torch/functional.py:507: UserWarning: torch.meshgrid: in an upcoming release, it will be required to pass the indexing argument. (Triggered internally at /Users/runner/work/_temp/anaconda/conda-bld/pytorch_1711403213615/work/aten/src/ATen/native/TensorShape.cpp:3550.)\n",
            "  return _VF.meshgrid(tensors, **kwargs)  # type: ignore[attr-defined]\n",
            "Testing 0 baby                 - PSNR: 37.40 dB; SSIM: 0.9603; PSNRB: 0.00 dB;PSNR_Y: 38.94 dB; SSIM_Y: 0.9681; PSNRB_Y: 0.00 dB.\n",
            "Testing 1 bird                 - PSNR: 40.59 dB; SSIM: 0.9841; PSNRB: 0.00 dB;PSNR_Y: 43.28 dB; SSIM_Y: 0.9906; PSNRB_Y: 0.00 dB.\n",
            "Testing 2 butterfly            - PSNR: 34.13 dB; SSIM: 0.9718; PSNRB: 0.00 dB;PSNR_Y: 35.75 dB; SSIM_Y: 0.9795; PSNRB_Y: 0.00 dB.\n",
            "Testing 3 head                 - PSNR: 32.32 dB; SSIM: 0.8345; PSNRB: 0.00 dB;PSNR_Y: 36.07 dB; SSIM_Y: 0.8922; PSNRB_Y: 0.00 dB.\n",
            "Testing 4 woman                - PSNR: 35.28 dB; SSIM: 0.9716; PSNRB: 0.00 dB;PSNR_Y: 36.65 dB; SSIM_Y: 0.9752; PSNRB_Y: 0.00 dB.\n",
            "\n",
            "results/swinir_lightweight_sr_x2 \n",
            "-- Average PSNR/SSIM(RGB): 35.95 dB; 0.9445\n",
            "-- Average PSNR_Y/SSIM_Y: 38.14 dB; 0.9611\n"
          ]
        }
      ],
      "source": [
        "# lightweight\n",
        "!python main_test_swinir.py --task lightweight_sr --scale 2 --model_path model_zoo/swinir/002_lightweightSR_DIV2K_s64w8_SwinIR-S_x2.pth --folder_lq testsets/Set5/LR_bicubic/X2 --folder_gt testsets/Set5/HR"
      ]
    },
    {
      "cell_type": "code",
      "execution_count": 40,
      "metadata": {
        "id": "iXRjp0Z5igor"
      },
      "outputs": [],
      "source": [
        "config = {\n",
        "    'classical_sr' : {\n",
        "        'args': {\n",
        "            'upscale' : 2, # flexible\n",
        "            'in_chans' : 3,\n",
        "            'img_size' : 48,\n",
        "            'window_size' : 8,\n",
        "            'img_range' : 1.,\n",
        "            'depths' :[6, 6, 6, 6, 6, 6],\n",
        "            'embed_dim' : 180,\n",
        "            'num_heads' : [6, 6, 6, 6, 6, 6],\n",
        "            'mlp_ratio' : 2,\n",
        "            'upsampler' : 'pixelshuffle',\n",
        "            'resi_connection' : '1conv',\n",
        "        },\n",
        "        'path' : 'model_zoo/swinir/001_classicalSR_DIV2K_s48w8_SwinIR-M_x2.pth', #match with upscale factor\n",
        "    },\n",
        "    'lightweight_sr' : {\n",
        "        'args': {\n",
        "            'upscale' : 2, # flexible\n",
        "            'in_chans' : 3,\n",
        "            'img_size' : 64,\n",
        "            'window_size' : 8,\n",
        "            'img_range' : 1.,\n",
        "            'depths' :[6, 6, 6, 6],\n",
        "            'embed_dim' : 60,\n",
        "            'num_heads' : [6, 6, 6, 6],\n",
        "            'mlp_ratio' : 2,\n",
        "            'upsampler' : 'pixelshuffledirect',\n",
        "            'resi_connection' : '1conv',\n",
        "        },\n",
        "        'path' : 'model_zoo/swinir/002_lightweightSR_DIV2K_s64w8_SwinIR-S_x2.pth', #match with upscale factor\n",
        "    }\n",
        "}"
      ]
    },
    {
      "cell_type": "code",
      "execution_count": 30,
      "metadata": {
        "id": "8AIMXtSznFiO"
      },
      "outputs": [],
      "source": [
        "import cv2\n",
        "import os\n",
        "import numpy as np\n",
        "import torch\n",
        "device = 'cpu'\n",
        "\n",
        "def get_image_pair(scale=2, folder_lq=\"testsets/Set5/LR_bicubic\", folder_gt=\"testsets/Set5/HR\", imgname=\"baby\", imgext=\".png\"):\n",
        "    window_size=8\n",
        "    # 001 classical image sr/ 002 lightweight image sr (load lq-gt image pairs)\n",
        "\n",
        "    gt_img_path = f'{folder_gt}/{imgname}{imgext}'\n",
        "    lq_img_path = f'{folder_lq}/X{scale}/{imgname}x{scale}{imgext}'\n",
        "\n",
        "    print(f'gt: {gt_img_path} lq: {lq_img_path}')\n",
        "    img_gt = cv2.imread(gt_img_path, cv2.IMREAD_COLOR).astype(np.float32) / 255.\n",
        "\n",
        "    img_lq = cv2.imread(lq_img_path, cv2.IMREAD_COLOR).astype(\n",
        "        np.float32) / 255.\n",
        "\n",
        "    img_lq = np.transpose(img_lq if img_lq.shape[2] == 1 else img_lq[:, :, [2, 1, 0]], (2, 0, 1))  # HCW-BGR to CHW-RGB\n",
        "    img_lq = torch.from_numpy(img_lq).float().unsqueeze(0).to(device)  # CHW-RGB to NCHW-RGB\n",
        "\n",
        "    _, _, h_old, w_old = img_lq.size()\n",
        "    h_pad = (h_old // window_size + 1) * window_size - h_old\n",
        "    w_pad = (w_old // window_size + 1) * window_size - w_old\n",
        "    img_lq = torch.cat([img_lq, torch.flip(img_lq, [2])], 2)[:, :, :h_old + h_pad, :]\n",
        "    img_lq = torch.cat([img_lq, torch.flip(img_lq, [3])], 3)[:, :, :, :w_old + w_pad]\n",
        "    \n",
        "    return imgname, img_lq, img_gt"
      ]
    },
    {
      "cell_type": "code",
      "execution_count": 41,
      "metadata": {
        "colab": {
          "base_uri": "https://localhost:8080/"
        },
        "id": "wD3uV5i0h2Ca",
        "outputId": "2b47fa60-4a1d-4749-e732-c1d407dd08a8"
      },
      "outputs": [
        {
          "data": {
            "text/plain": [
              "<All keys matched successfully>"
            ]
          },
          "execution_count": 41,
          "metadata": {},
          "output_type": "execute_result"
        }
      ],
      "source": [
        "import torch\n",
        "from models.network_swinir import SwinIR as net\n",
        "\n",
        "TASK_NAME = 'lightweight_sr'\n",
        "\n",
        "\n",
        "model_info = config[TASK_NAME]\n",
        "model = net(**model_info['args'])\n",
        "param_key_g = 'params'\n",
        "\n",
        "pretrained_model = torch.load(model_info['path'])\n",
        "model.load_state_dict(pretrained_model[param_key_g] if param_key_g in pretrained_model.keys() else pretrained_model, strict=True)\n",
        "\n"
      ]
    },
    {
      "cell_type": "code",
      "execution_count": 42,
      "metadata": {
        "colab": {
          "base_uri": "https://localhost:8080/",
          "height": 287
        },
        "id": "gQXnU6c8n94Q",
        "outputId": "09e0b710-a2db-4e87-b74d-8427fa6cc418"
      },
      "outputs": [
        {
          "name": "stdout",
          "output_type": "stream",
          "text": [
            "4.19 GFLOPS\n"
          ]
        }
      ],
      "source": [
        "print(f\"{model.flops() / 1e9:.2f} GFLOPS\")"
      ]
    },
    {
      "cell_type": "code",
      "execution_count": 43,
      "metadata": {},
      "outputs": [
        {
          "name": "stdout",
          "output_type": "stream",
          "text": [
            "[INFO] Register count_convNd() for <class 'torch.nn.modules.conv.Conv2d'>.\n",
            "[INFO] Register count_normalization() for <class 'torch.nn.modules.normalization.LayerNorm'>.\n",
            "[INFO] Register zero_ops() for <class 'torch.nn.modules.dropout.Dropout'>.\n",
            "[INFO] Register count_linear() for <class 'torch.nn.modules.linear.Linear'>.\n",
            "[INFO] Register count_softmax() for <class 'torch.nn.modules.activation.Softmax'>.\n",
            "[INFO] Register zero_ops() for <class 'torch.nn.modules.pixelshuffle.PixelShuffle'>.\n",
            "MACs: 2.08G Params: 877.75K\n"
          ]
        }
      ],
      "source": [
        "from thop import profile, clever_format\n",
        "macs, params = clever_format(profile(model, inputs=(torch.Tensor(1,3,48,48), )))\n",
        "\n",
        "print(f\"MACs: {macs} Params: {params}\")"
      ]
    },
    {
      "cell_type": "markdown",
      "metadata": {},
      "source": [
        "Visualizing"
      ]
    },
    {
      "cell_type": "code",
      "execution_count": null,
      "metadata": {
        "id": "DmrCsSIrc8iT"
      },
      "outputs": [],
      "source": [
        "import numpy as np\n",
        "import imageio.v2 as imageio\n",
        "\n",
        "im_arr = imageio.imread(\"/content/drive/MyDrive/SwinIR/testsets/Set5/LR_bicubic/X2/birdx2.png\")\n",
        "im_arr"
      ]
    },
    {
      "cell_type": "code",
      "execution_count": null,
      "metadata": {
        "id": "Ge5tevWIZu4Z"
      },
      "outputs": [],
      "source": []
    },
    {
      "cell_type": "code",
      "execution_count": null,
      "metadata": {
        "colab": {
          "base_uri": "https://localhost:8080/",
          "height": 184
        },
        "id": "GafSh9rkdFmB",
        "outputId": "78954f16-ab2f-44ff-a54e-8b4ee2aaee53"
      },
      "outputs": [],
      "source": []
    },
    {
      "cell_type": "code",
      "execution_count": null,
      "metadata": {
        "colab": {
          "base_uri": "https://localhost:8080/",
          "height": 35
        },
        "id": "Noi7CNqEdMur",
        "outputId": "cbf34250-caf5-4592-d0c7-7ebe706ac30f"
      },
      "outputs": [],
      "source": [
        "%pwd"
      ]
    },
    {
      "cell_type": "code",
      "execution_count": null,
      "metadata": {
        "colab": {
          "base_uri": "https://localhost:8080/"
        },
        "id": "ksu6wIKht-fa",
        "outputId": "fcb0e4d6-57cd-4967-a1a3-ccf43f487048"
      },
      "outputs": [],
      "source": [
        "!git init"
      ]
    },
    {
      "cell_type": "code",
      "execution_count": null,
      "metadata": {
        "id": "JYVzwjtzuCSa"
      },
      "outputs": [],
      "source": []
    }
  ],
  "metadata": {
    "accelerator": "GPU",
    "colab": {
      "gpuType": "T4",
      "machine_shape": "hm",
      "provenance": []
    },
    "kernelspec": {
      "display_name": "Python 3",
      "name": "python3"
    },
    "language_info": {
      "codemirror_mode": {
        "name": "ipython",
        "version": 3
      },
      "file_extension": ".py",
      "mimetype": "text/x-python",
      "name": "python",
      "nbconvert_exporter": "python",
      "pygments_lexer": "ipython3",
      "version": "3.12.7"
    }
  },
  "nbformat": 4,
  "nbformat_minor": 0
}
